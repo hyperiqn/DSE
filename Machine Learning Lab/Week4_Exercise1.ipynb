{
 "cells": [
  {
   "cell_type": "markdown",
   "id": "28d5dcbc",
   "metadata": {},
   "source": [
    "# 220968280 - Anirudh Swaminathan - DSE A2\n",
    "\n",
    "## Week 4 - Exercise 1 - KNN algorithm on breast_cancer.csv using sklearn"
   ]
  },
  {
   "cell_type": "code",
   "execution_count": 1,
   "id": "4fe7c14f",
   "metadata": {},
   "outputs": [],
   "source": [
    "import pandas as pd\n",
    "import numpy as np\n",
    "import matplotlib.pyplot as plt\n",
    "import seaborn as sns\n",
    "%matplotlib inline"
   ]
  },
  {
   "cell_type": "markdown",
   "id": "e1579e46",
   "metadata": {},
   "source": [
    "### 1. Dataset\n",
    "### 2. Rename columns"
   ]
  },
  {
   "cell_type": "code",
   "execution_count": 2,
   "id": "0ac5bba8",
   "metadata": {
    "scrolled": false
   },
   "outputs": [],
   "source": [
    "df = pd.read_csv('datasets//breast_cancer.csv')\n",
    "df.replace('?',np.nan,inplace=True)\n",
    "df.columns = ['Id', 'Clump_thickness', 'Uniformity_Cell_Size',\n",
    "       'Uniformity_Cell_Shape', 'Marginal_Adhesion',\n",
    "       'Single_Epithelial_Cell_Size', 'Bare_Nuclei', 'Bland_Chromatin',\n",
    "       'Normal_Nucleoli', 'Mitoses', 'Class']\n",
    "df = df.dropna(axis=0)"
   ]
  },
  {
   "cell_type": "markdown",
   "id": "5b9fab3e",
   "metadata": {},
   "source": [
    "### 3. Drop redundant columns"
   ]
  },
  {
   "cell_type": "code",
   "execution_count": 3,
   "id": "ad82a484",
   "metadata": {},
   "outputs": [
    {
     "data": {
      "text/html": [
       "<div>\n",
       "<style scoped>\n",
       "    .dataframe tbody tr th:only-of-type {\n",
       "        vertical-align: middle;\n",
       "    }\n",
       "\n",
       "    .dataframe tbody tr th {\n",
       "        vertical-align: top;\n",
       "    }\n",
       "\n",
       "    .dataframe thead th {\n",
       "        text-align: right;\n",
       "    }\n",
       "</style>\n",
       "<table border=\"1\" class=\"dataframe\">\n",
       "  <thead>\n",
       "    <tr style=\"text-align: right;\">\n",
       "      <th></th>\n",
       "      <th>Clump_thickness</th>\n",
       "      <th>Uniformity_Cell_Size</th>\n",
       "      <th>Uniformity_Cell_Shape</th>\n",
       "      <th>Marginal_Adhesion</th>\n",
       "      <th>Single_Epithelial_Cell_Size</th>\n",
       "      <th>Bare_Nuclei</th>\n",
       "      <th>Bland_Chromatin</th>\n",
       "      <th>Normal_Nucleoli</th>\n",
       "      <th>Mitoses</th>\n",
       "      <th>Class</th>\n",
       "    </tr>\n",
       "  </thead>\n",
       "  <tbody>\n",
       "    <tr>\n",
       "      <th>0</th>\n",
       "      <td>5</td>\n",
       "      <td>4</td>\n",
       "      <td>4</td>\n",
       "      <td>5</td>\n",
       "      <td>7</td>\n",
       "      <td>10</td>\n",
       "      <td>3</td>\n",
       "      <td>2</td>\n",
       "      <td>1</td>\n",
       "      <td>2</td>\n",
       "    </tr>\n",
       "    <tr>\n",
       "      <th>1</th>\n",
       "      <td>3</td>\n",
       "      <td>1</td>\n",
       "      <td>1</td>\n",
       "      <td>1</td>\n",
       "      <td>2</td>\n",
       "      <td>2</td>\n",
       "      <td>3</td>\n",
       "      <td>1</td>\n",
       "      <td>1</td>\n",
       "      <td>2</td>\n",
       "    </tr>\n",
       "    <tr>\n",
       "      <th>2</th>\n",
       "      <td>6</td>\n",
       "      <td>8</td>\n",
       "      <td>8</td>\n",
       "      <td>1</td>\n",
       "      <td>3</td>\n",
       "      <td>4</td>\n",
       "      <td>3</td>\n",
       "      <td>7</td>\n",
       "      <td>1</td>\n",
       "      <td>2</td>\n",
       "    </tr>\n",
       "    <tr>\n",
       "      <th>3</th>\n",
       "      <td>4</td>\n",
       "      <td>1</td>\n",
       "      <td>1</td>\n",
       "      <td>3</td>\n",
       "      <td>2</td>\n",
       "      <td>1</td>\n",
       "      <td>3</td>\n",
       "      <td>1</td>\n",
       "      <td>1</td>\n",
       "      <td>2</td>\n",
       "    </tr>\n",
       "    <tr>\n",
       "      <th>4</th>\n",
       "      <td>8</td>\n",
       "      <td>10</td>\n",
       "      <td>10</td>\n",
       "      <td>8</td>\n",
       "      <td>7</td>\n",
       "      <td>10</td>\n",
       "      <td>9</td>\n",
       "      <td>7</td>\n",
       "      <td>1</td>\n",
       "      <td>4</td>\n",
       "    </tr>\n",
       "  </tbody>\n",
       "</table>\n",
       "</div>"
      ],
      "text/plain": [
       "   Clump_thickness  Uniformity_Cell_Size  Uniformity_Cell_Shape  \\\n",
       "0                5                     4                      4   \n",
       "1                3                     1                      1   \n",
       "2                6                     8                      8   \n",
       "3                4                     1                      1   \n",
       "4                8                    10                     10   \n",
       "\n",
       "   Marginal_Adhesion  Single_Epithelial_Cell_Size Bare_Nuclei  \\\n",
       "0                  5                            7          10   \n",
       "1                  1                            2           2   \n",
       "2                  1                            3           4   \n",
       "3                  3                            2           1   \n",
       "4                  8                            7          10   \n",
       "\n",
       "   Bland_Chromatin  Normal_Nucleoli  Mitoses  Class  \n",
       "0                3                2        1      2  \n",
       "1                3                1        1      2  \n",
       "2                3                7        1      2  \n",
       "3                3                1        1      2  \n",
       "4                9                7        1      4  "
      ]
     },
     "execution_count": 3,
     "metadata": {},
     "output_type": "execute_result"
    }
   ],
   "source": [
    "df = df.drop('Id', axis=1)\n",
    "df.head()"
   ]
  },
  {
   "cell_type": "markdown",
   "id": "9d50efa2",
   "metadata": {},
   "source": [
    "### 4. View the summary of the dataset"
   ]
  },
  {
   "cell_type": "code",
   "execution_count": 4,
   "id": "501db582",
   "metadata": {},
   "outputs": [
    {
     "data": {
      "text/html": [
       "<div>\n",
       "<style scoped>\n",
       "    .dataframe tbody tr th:only-of-type {\n",
       "        vertical-align: middle;\n",
       "    }\n",
       "\n",
       "    .dataframe tbody tr th {\n",
       "        vertical-align: top;\n",
       "    }\n",
       "\n",
       "    .dataframe thead th {\n",
       "        text-align: right;\n",
       "    }\n",
       "</style>\n",
       "<table border=\"1\" class=\"dataframe\">\n",
       "  <thead>\n",
       "    <tr style=\"text-align: right;\">\n",
       "      <th></th>\n",
       "      <th>Clump_thickness</th>\n",
       "      <th>Uniformity_Cell_Size</th>\n",
       "      <th>Uniformity_Cell_Shape</th>\n",
       "      <th>Marginal_Adhesion</th>\n",
       "      <th>Single_Epithelial_Cell_Size</th>\n",
       "      <th>Bland_Chromatin</th>\n",
       "      <th>Normal_Nucleoli</th>\n",
       "      <th>Mitoses</th>\n",
       "      <th>Class</th>\n",
       "    </tr>\n",
       "  </thead>\n",
       "  <tbody>\n",
       "    <tr>\n",
       "      <th>count</th>\n",
       "      <td>682.000000</td>\n",
       "      <td>682.000000</td>\n",
       "      <td>682.000000</td>\n",
       "      <td>682.000000</td>\n",
       "      <td>682.000000</td>\n",
       "      <td>682.000000</td>\n",
       "      <td>682.000000</td>\n",
       "      <td>682.000000</td>\n",
       "      <td>682.000000</td>\n",
       "    </tr>\n",
       "    <tr>\n",
       "      <th>mean</th>\n",
       "      <td>4.441349</td>\n",
       "      <td>3.153959</td>\n",
       "      <td>3.218475</td>\n",
       "      <td>2.832845</td>\n",
       "      <td>3.236070</td>\n",
       "      <td>3.445748</td>\n",
       "      <td>2.872434</td>\n",
       "      <td>1.604106</td>\n",
       "      <td>2.700880</td>\n",
       "    </tr>\n",
       "    <tr>\n",
       "      <th>std</th>\n",
       "      <td>2.822751</td>\n",
       "      <td>3.066285</td>\n",
       "      <td>2.989568</td>\n",
       "      <td>2.865805</td>\n",
       "      <td>2.224214</td>\n",
       "      <td>2.451435</td>\n",
       "      <td>3.054065</td>\n",
       "      <td>1.733792</td>\n",
       "      <td>0.954916</td>\n",
       "    </tr>\n",
       "    <tr>\n",
       "      <th>min</th>\n",
       "      <td>1.000000</td>\n",
       "      <td>1.000000</td>\n",
       "      <td>1.000000</td>\n",
       "      <td>1.000000</td>\n",
       "      <td>1.000000</td>\n",
       "      <td>1.000000</td>\n",
       "      <td>1.000000</td>\n",
       "      <td>1.000000</td>\n",
       "      <td>2.000000</td>\n",
       "    </tr>\n",
       "    <tr>\n",
       "      <th>25%</th>\n",
       "      <td>2.000000</td>\n",
       "      <td>1.000000</td>\n",
       "      <td>1.000000</td>\n",
       "      <td>1.000000</td>\n",
       "      <td>2.000000</td>\n",
       "      <td>2.000000</td>\n",
       "      <td>1.000000</td>\n",
       "      <td>1.000000</td>\n",
       "      <td>2.000000</td>\n",
       "    </tr>\n",
       "    <tr>\n",
       "      <th>50%</th>\n",
       "      <td>4.000000</td>\n",
       "      <td>1.000000</td>\n",
       "      <td>1.000000</td>\n",
       "      <td>1.000000</td>\n",
       "      <td>2.000000</td>\n",
       "      <td>3.000000</td>\n",
       "      <td>1.000000</td>\n",
       "      <td>1.000000</td>\n",
       "      <td>2.000000</td>\n",
       "    </tr>\n",
       "    <tr>\n",
       "      <th>75%</th>\n",
       "      <td>6.000000</td>\n",
       "      <td>5.000000</td>\n",
       "      <td>5.000000</td>\n",
       "      <td>4.000000</td>\n",
       "      <td>4.000000</td>\n",
       "      <td>5.000000</td>\n",
       "      <td>4.000000</td>\n",
       "      <td>1.000000</td>\n",
       "      <td>4.000000</td>\n",
       "    </tr>\n",
       "    <tr>\n",
       "      <th>max</th>\n",
       "      <td>10.000000</td>\n",
       "      <td>10.000000</td>\n",
       "      <td>10.000000</td>\n",
       "      <td>10.000000</td>\n",
       "      <td>10.000000</td>\n",
       "      <td>10.000000</td>\n",
       "      <td>10.000000</td>\n",
       "      <td>10.000000</td>\n",
       "      <td>4.000000</td>\n",
       "    </tr>\n",
       "  </tbody>\n",
       "</table>\n",
       "</div>"
      ],
      "text/plain": [
       "       Clump_thickness  Uniformity_Cell_Size  Uniformity_Cell_Shape  \\\n",
       "count       682.000000            682.000000             682.000000   \n",
       "mean          4.441349              3.153959               3.218475   \n",
       "std           2.822751              3.066285               2.989568   \n",
       "min           1.000000              1.000000               1.000000   \n",
       "25%           2.000000              1.000000               1.000000   \n",
       "50%           4.000000              1.000000               1.000000   \n",
       "75%           6.000000              5.000000               5.000000   \n",
       "max          10.000000             10.000000              10.000000   \n",
       "\n",
       "       Marginal_Adhesion  Single_Epithelial_Cell_Size  Bland_Chromatin  \\\n",
       "count         682.000000                   682.000000       682.000000   \n",
       "mean            2.832845                     3.236070         3.445748   \n",
       "std             2.865805                     2.224214         2.451435   \n",
       "min             1.000000                     1.000000         1.000000   \n",
       "25%             1.000000                     2.000000         2.000000   \n",
       "50%             1.000000                     2.000000         3.000000   \n",
       "75%             4.000000                     4.000000         5.000000   \n",
       "max            10.000000                    10.000000        10.000000   \n",
       "\n",
       "       Normal_Nucleoli     Mitoses       Class  \n",
       "count       682.000000  682.000000  682.000000  \n",
       "mean          2.872434    1.604106    2.700880  \n",
       "std           3.054065    1.733792    0.954916  \n",
       "min           1.000000    1.000000    2.000000  \n",
       "25%           1.000000    1.000000    2.000000  \n",
       "50%           1.000000    1.000000    2.000000  \n",
       "75%           4.000000    1.000000    4.000000  \n",
       "max          10.000000   10.000000    4.000000  "
      ]
     },
     "execution_count": 4,
     "metadata": {},
     "output_type": "execute_result"
    }
   ],
   "source": [
    "df.describe()"
   ]
  },
  {
   "cell_type": "markdown",
   "id": "faa8df92",
   "metadata": {},
   "source": [
    "### 6. Convert the data type of Bare_Nuclei to an integer"
   ]
  },
  {
   "cell_type": "code",
   "execution_count": 5,
   "id": "b832db3f",
   "metadata": {},
   "outputs": [],
   "source": [
    "df['Bare_Nuclei'] = df['Bare_Nuclei'].astype('int')"
   ]
  },
  {
   "cell_type": "markdown",
   "id": "87fc1b84",
   "metadata": {},
   "source": [
    "### 7. Check data types of columns of data frame"
   ]
  },
  {
   "cell_type": "code",
   "execution_count": 6,
   "id": "1fa026eb",
   "metadata": {},
   "outputs": [
    {
     "data": {
      "text/plain": [
       "Clump_thickness                int64\n",
       "Uniformity_Cell_Size           int64\n",
       "Uniformity_Cell_Shape          int64\n",
       "Marginal_Adhesion              int64\n",
       "Single_Epithelial_Cell_Size    int64\n",
       "Bare_Nuclei                    int32\n",
       "Bland_Chromatin                int64\n",
       "Normal_Nucleoli                int64\n",
       "Mitoses                        int64\n",
       "Class                          int64\n",
       "dtype: object"
      ]
     },
     "execution_count": 6,
     "metadata": {},
     "output_type": "execute_result"
    }
   ],
   "source": [
    "df.dtypes"
   ]
  },
  {
   "cell_type": "markdown",
   "id": "69ed6a32",
   "metadata": {},
   "source": [
    "### 9. Check the distribution of variables using histograms"
   ]
  },
  {
   "cell_type": "code",
   "execution_count": 7,
   "id": "107a4875",
   "metadata": {},
   "outputs": [
    {
     "data": {
      "image/png": "[encoded data removed]",
      "text/plain": [
       "<Figure size 800x800 with 10 Axes>"
      ]
     },
     "metadata": {},
     "output_type": "display_data"
    }
   ],
   "source": [
    "fig, axis = plt.subplots(5,2,figsize=(8, 8))\n",
    "df.hist(ax=axis)\n",
    "for ax in fig.axes:\n",
    "    ax.set_xticklabels([])\n",
    "\n",
    "plt.show()"
   ]
  },
  {
   "cell_type": "markdown",
   "id": "61858334",
   "metadata": {},
   "source": [
    "### 10. Estimate correlation coefficients and represent using heatmaps"
   ]
  },
  {
   "cell_type": "code",
   "execution_count": 8,
   "id": "427c3018",
   "metadata": {},
   "outputs": [
    {
     "data": {
      "text/plain": [
       "<Axes: >"
      ]
     },
     "execution_count": 8,
     "metadata": {},
     "output_type": "execute_result"
    },
    {
     "data": {
      "image/png": "[encoded data removed]",
      "text/plain": [
       "<Figure size 640x480 with 2 Axes>"
      ]
     },
     "metadata": {},
     "output_type": "display_data"
    }
   ],
   "source": [
    "sns.heatmap(df.corr())"
   ]
  },
  {
   "cell_type": "markdown",
   "id": "98fdecc6",
   "metadata": {},
   "source": [
    "### 11. Declare feature vector and target variable"
   ]
  },
  {
   "cell_type": "code",
   "execution_count": 9,
   "id": "f2bd60cd",
   "metadata": {},
   "outputs": [],
   "source": [
    "X = df.drop('Class', axis=1)\n",
    "Y = df['Class']"
   ]
  },
  {
   "cell_type": "markdown",
   "id": "b077028b",
   "metadata": {},
   "source": [
    "### 12. Split data into separate training and test set"
   ]
  },
  {
   "cell_type": "code",
   "execution_count": 10,
   "id": "f03312d3",
   "metadata": {},
   "outputs": [],
   "source": [
    "from sklearn.model_selection import train_test_split\n",
    "x_train, x_test, y_train, y_test = train_test_split(X, Y, test_size=0.2, random_state=42)"
   ]
  },
  {
   "cell_type": "markdown",
   "id": "e240ace8",
   "metadata": {},
   "source": [
    "### 13. Perform Feature Scaling(Normalize)"
   ]
  },
  {
   "cell_type": "code",
   "execution_count": 11,
   "id": "e421657c",
   "metadata": {},
   "outputs": [],
   "source": [
    "from sklearn.preprocessing import Normalizer\n",
    "normalizer = Normalizer()"
   ]
  },
  {
   "cell_type": "code",
   "execution_count": 12,
   "id": "671005b1",
   "metadata": {},
   "outputs": [],
   "source": [
    "x_train = normalizer.fit_transform(x_train)\n",
    "x_test = normalizer.transform(x_test)"
   ]
  },
  {
   "cell_type": "markdown",
   "id": "9af78ef3",
   "metadata": {},
   "source": [
    "### 14. Fit the K Neighbours Classifier to the training set"
   ]
  },
  {
   "cell_type": "code",
   "execution_count": 13,
   "id": "083d7959",
   "metadata": {},
   "outputs": [],
   "source": [
    "from sklearn.neighbors import KNeighborsClassifier\n",
    "from sklearn.metrics import accuracy_score"
   ]
  },
  {
   "cell_type": "code",
   "execution_count": 14,
   "id": "1f5c17e4",
   "metadata": {},
   "outputs": [
    {
     "data": {
      "text/html": [
       "<style>#sk-container-id-1 {color: black;}#sk-container-id-1 pre{padding: 0;}#sk-container-id-1 div.sk-toggleable {background-color: white;}#sk-container-id-1 label.sk-toggleable__label {cursor: pointer;display: block;width: 100%;margin-bottom: 0;padding: 0.3em;box-sizing: border-box;text-align: center;}#sk-container-id-1 label.sk-toggleable__label-arrow:before {content: \"▸\";float: left;margin-right: 0.25em;color: #696969;}#sk-container-id-1 label.sk-toggleable__label-arrow:hover:before {color: black;}#sk-container-id-1 div.sk-estimator:hover label.sk-toggleable__label-arrow:before {color: black;}#sk-container-id-1 div.sk-toggleable__content {max-height: 0;max-width: 0;overflow: hidden;text-align: left;background-color: #f0f8ff;}#sk-container-id-1 div.sk-toggleable__content pre {margin: 0.2em;color: black;border-radius: 0.25em;background-color: #f0f8ff;}#sk-container-id-1 input.sk-toggleable__control:checked~div.sk-toggleable__content {max-height: 200px;max-width: 100%;overflow: auto;}#sk-container-id-1 input.sk-toggleable__control:checked~label.sk-toggleable__label-arrow:before {content: \"▾\";}#sk-container-id-1 div.sk-estimator input.sk-toggleable__control:checked~label.sk-toggleable__label {background-color: #d4ebff;}#sk-container-id-1 div.sk-label input.sk-toggleable__control:checked~label.sk-toggleable__label {background-color: #d4ebff;}#sk-container-id-1 input.sk-hidden--visually {border: 0;clip: rect(1px 1px 1px 1px);clip: rect(1px, 1px, 1px, 1px);height: 1px;margin: -1px;overflow: hidden;padding: 0;position: absolute;width: 1px;}#sk-container-id-1 div.sk-estimator {font-family: monospace;background-color: #f0f8ff;border: 1px dotted black;border-radius: 0.25em;box-sizing: border-box;margin-bottom: 0.5em;}#sk-container-id-1 div.sk-estimator:hover {background-color: #d4ebff;}#sk-container-id-1 div.sk-parallel-item::after {content: \"\";width: 100%;border-bottom: 1px solid gray;flex-grow: 1;}#sk-container-id-1 div.sk-label:hover label.sk-toggleable__label {background-color: #d4ebff;}#sk-container-id-1 div.sk-serial::before {content: \"\";position: absolute;border-left: 1px solid gray;box-sizing: border-box;top: 0;bottom: 0;left: 50%;z-index: 0;}#sk-container-id-1 div.sk-serial {display: flex;flex-direction: column;align-items: center;background-color: white;padding-right: 0.2em;padding-left: 0.2em;position: relative;}#sk-container-id-1 div.sk-item {position: relative;z-index: 1;}#sk-container-id-1 div.sk-parallel {display: flex;align-items: stretch;justify-content: center;background-color: white;position: relative;}#sk-container-id-1 div.sk-item::before, #sk-container-id-1 div.sk-parallel-item::before {content: \"\";position: absolute;border-left: 1px solid gray;box-sizing: border-box;top: 0;bottom: 0;left: 50%;z-index: -1;}#sk-container-id-1 div.sk-parallel-item {display: flex;flex-direction: column;z-index: 1;position: relative;background-color: white;}#sk-container-id-1 div.sk-parallel-item:first-child::after {align-self: flex-end;width: 50%;}#sk-container-id-1 div.sk-parallel-item:last-child::after {align-self: flex-start;width: 50%;}#sk-container-id-1 div.sk-parallel-item:only-child::after {width: 0;}#sk-container-id-1 div.sk-dashed-wrapped {border: 1px dashed gray;margin: 0 0.4em 0.5em 0.4em;box-sizing: border-box;padding-bottom: 0.4em;background-color: white;}#sk-container-id-1 div.sk-label label {font-family: monospace;font-weight: bold;display: inline-block;line-height: 1.2em;}#sk-container-id-1 div.sk-label-container {text-align: center;}#sk-container-id-1 div.sk-container {/* jupyter's `normalize.less` sets `[hidden] { display: none; }` but bootstrap.min.css set `[hidden] { display: none !important; }` so we also need the `!important` here to be able to override the default hidden behavior on the sphinx rendered scikit-learn.org. See: https://github.com/scikit-learn/scikit-learn/issues/21755 */display: inline-block !important;position: relative;}#sk-container-id-1 div.sk-text-repr-fallback {display: none;}</style><div id=\"sk-container-id-1\" class=\"sk-top-container\"><div class=\"sk-text-repr-fallback\"><pre>KNeighborsClassifier(n_neighbors=3)</pre><b>In a Jupyter environment, please rerun this cell to show the HTML representation or trust the notebook. <br />On GitHub, the HTML representation is unable to render, please try loading this page with nbviewer.org.</b></div><div class=\"sk-container\" hidden><div class=\"sk-item\"><div class=\"sk-estimator sk-toggleable\"><input class=\"sk-toggleable__control sk-hidden--visually\" id=\"sk-estimator-id-1\" type=\"checkbox\" checked><label for=\"sk-estimator-id-1\" class=\"sk-toggleable__label sk-toggleable__label-arrow\">KNeighborsClassifier</label><div class=\"sk-toggleable__content\"><pre>KNeighborsClassifier(n_neighbors=3)</pre></div></div></div></div></div>"
      ],
      "text/plain": [
       "KNeighborsClassifier(n_neighbors=3)"
      ]
     },
     "execution_count": 14,
     "metadata": {},
     "output_type": "execute_result"
    }
   ],
   "source": [
    "knn = KNeighborsClassifier(n_neighbors=3)\n",
    "knn.fit(x_train, y_train)"
   ]
  },
  {
   "cell_type": "markdown",
   "id": "144298ad",
   "metadata": {},
   "source": [
    "### 15. Predict test-set results \n",
    "### 16. Check the accuracy score \n",
    "### 17. Compare the train-set and test-set accuracy"
   ]
  },
  {
   "cell_type": "code",
   "execution_count": 15,
   "id": "b197ceea",
   "metadata": {},
   "outputs": [
    {
     "name": "stdout",
     "output_type": "stream",
     "text": [
      "Accuracy of train set: 0.9577981651376147\n"
     ]
    }
   ],
   "source": [
    "y_pred = knn.predict(x_train)\n",
    "accuracy = accuracy_score(y_train, y_pred)\n",
    "print(\"Accuracy of train set:\", accuracy)"
   ]
  },
  {
   "cell_type": "code",
   "execution_count": 16,
   "id": "e8a0bafc",
   "metadata": {
    "scrolled": true
   },
   "outputs": [
    {
     "name": "stdout",
     "output_type": "stream",
     "text": [
      "Accuracy of test set: 0.9124087591240876\n"
     ]
    }
   ],
   "source": [
    "y_pred = knn.predict(x_test)\n",
    "accuracy = accuracy_score(y_test, y_pred)\n",
    "print(\"Accuracy of test set:\", accuracy)"
   ]
  },
  {
   "cell_type": "markdown",
   "id": "969c45f6",
   "metadata": {},
   "source": [
    "### 20. Display confusion matrix"
   ]
  },
  {
   "cell_type": "code",
   "execution_count": 17,
   "id": "bdbe24ae",
   "metadata": {},
   "outputs": [
    {
     "name": "stdout",
     "output_type": "stream",
     "text": [
      "[[82  5]\n",
      " [ 7 43]]\n"
     ]
    }
   ],
   "source": [
    "from sklearn.metrics import confusion_matrix\n",
    "cm = confusion_matrix(y_test, y_pred)\n",
    "print(cm)"
   ]
  },
  {
   "cell_type": "markdown",
   "id": "2738d658",
   "metadata": {},
   "source": [
    "### 21. Generate classification report"
   ]
  },
  {
   "cell_type": "code",
   "execution_count": 18,
   "id": "cdf40f32",
   "metadata": {
    "scrolled": true
   },
   "outputs": [
    {
     "name": "stdout",
     "output_type": "stream",
     "text": [
      "              precision    recall  f1-score   support\n",
      "\n",
      "           2       0.92      0.94      0.93        87\n",
      "           4       0.90      0.86      0.88        50\n",
      "\n",
      "    accuracy                           0.91       137\n",
      "   macro avg       0.91      0.90      0.90       137\n",
      "weighted avg       0.91      0.91      0.91       137\n",
      "\n"
     ]
    }
   ],
   "source": [
    "from sklearn.metrics import classification_report\n",
    "print(classification_report(y_test, y_pred))"
   ]
  },
  {
   "cell_type": "markdown",
   "id": "21c55194",
   "metadata": {},
   "source": [
    "### 22. Evaluate classification error"
   ]
  },
  {
   "cell_type": "code",
   "execution_count": 19,
   "id": "fad48c1d",
   "metadata": {},
   "outputs": [
    {
     "name": "stdout",
     "output_type": "stream",
     "text": [
      "classification error: 0.08759124087591241\n"
     ]
    }
   ],
   "source": [
    "FP = cm.sum(axis=0) - np.diag(cm)  \n",
    "FN = cm.sum(axis=1) - np.diag(cm)\n",
    "TP = np.diag(cm)\n",
    "TN = cm.sum() - (FP + FN + TP)\n",
    "error = (FP+FN)/(TP+FP+FN+TN)\n",
    "print(f'classification error: {error[0]}')"
   ]
  },
  {
   "cell_type": "markdown",
   "id": "fd9fff17",
   "metadata": {},
   "source": [
    "### 23. Generate ROC curve and ROC AUC score."
   ]
  },
  {
   "cell_type": "code",
   "execution_count": 20,
   "id": "8941af8b",
   "metadata": {},
   "outputs": [
    {
     "data": {
      "text/plain": [
       "<sklearn.metrics._plot.roc_curve.RocCurveDisplay at 0x1fe20416d90>"
      ]
     },
     "execution_count": 20,
     "metadata": {},
     "output_type": "execute_result"
    },
    {
     "data": {
      "image/png": "[encoded data removed]",
      "text/plain": [
       "<Figure size 640x480 with 1 Axes>"
      ]
     },
     "metadata": {},
     "output_type": "display_data"
    }
   ],
   "source": [
    "from sklearn import metrics\n",
    "label = {2:0, 4:1}\n",
    "fpr, tpr, thresholds = metrics.roc_curve(pd.Series(y_test).map(label), pd.Series(y_pred).map(label))\n",
    "roc_auc = metrics.auc(fpr, tpr)\n",
    "display = metrics.RocCurveDisplay(fpr=fpr, tpr=tpr, roc_auc=roc_auc)\n",
    "display.plot()"
   ]
  },
  {
   "cell_type": "markdown",
   "id": "f47facdf",
   "metadata": {},
   "source": [
    "### 24. Perform k-fold validation"
   ]
  },
  {
   "cell_type": "code",
   "execution_count": 21,
   "id": "31c05132",
   "metadata": {},
   "outputs": [
    {
     "name": "stdout",
     "output_type": "stream",
     "text": [
      "Fold 1: 0.9710144927536232\n",
      "Fold 2: 0.927536231884058\n",
      "Fold 3: 0.9117647058823529\n",
      "Fold 4: 0.8676470588235294\n",
      "Fold 5: 0.9411764705882353\n",
      "Fold 6: 0.9558823529411765\n",
      "Fold 7: 0.8382352941176471\n",
      "Fold 8: 0.8970588235294118\n",
      "Fold 9: 0.8676470588235294\n",
      "Fold 10: 0.9264705882352942\n",
      "Average accuracy: 0.9104433077578857\n"
     ]
    }
   ],
   "source": [
    "from sklearn import svm\n",
    "from sklearn.model_selection import cross_val_score, KFold\n",
    "svc = svm.SVC(gamma='scale')\n",
    "x = np.concatenate((x_train, x_test))\n",
    "y = np.concatenate((y_train, y_test))\n",
    "kfold = KFold(n_splits=10)\n",
    "scores = cross_val_score(svc, x, y, cv=kfold)\n",
    "for i in range(len(scores)):\n",
    "    print(f\"Fold {i+1}: {scores[i]}\")\n",
    "print(f\"Average accuracy: {scores.mean()}\")"
   ]
  },
  {
   "cell_type": "markdown",
   "id": "c64c42a8",
   "metadata": {},
   "source": [
    "### 18. Rebuild the kNN Classification model using different values of k (3,4,5,6,7,8,9)\n",
    "### 19. Tabulate the results using the Tabulate package"
   ]
  },
  {
   "cell_type": "code",
   "execution_count": 22,
   "id": "a8535f3a",
   "metadata": {},
   "outputs": [
    {
     "name": "stderr",
     "output_type": "stream",
     "text": [
      "C:\\Users\\s_ani\\AppData\\Local\\Temp\\ipykernel_13488\\675301730.py:21: FutureWarning: The behavior of DataFrame concatenation with empty or all-NA entries is deprecated. In a future version, this will no longer exclude empty or all-NA columns when determining the result dtypes. To retain the old behavior, exclude the relevant entries before the concat operation.\n",
      "  results = pd.concat([results, iteration_results], ignore_index=True)\n"
     ]
    },
    {
     "name": "stdout",
     "output_type": "stream",
     "text": [
      "+-----+--------------------+-------------+----------+------------+------------+\n",
      "|   k |   Train-Test Split |   Precision |   Recall |   F1-score |   Accuracy |\n",
      "|-----+--------------------+-------------+----------+------------+------------|\n",
      "|   3 |               0.3  |    0.96875  | 0.898551 |   0.932331 |   0.956098 |\n",
      "|   3 |               0.2  |    0.958333 | 0.92     |   0.938776 |   0.956204 |\n",
      "|   3 |               0.25 |    0.964286 | 0.915254 |   0.93913  |   0.959064 |\n",
      "|   4 |               0.3  |    0.96875  | 0.898551 |   0.932331 |   0.956098 |\n",
      "|   4 |               0.2  |    0.957447 | 0.9      |   0.927835 |   0.948905 |\n",
      "|   4 |               0.25 |    0.963636 | 0.898305 |   0.929825 |   0.953216 |\n",
      "|   5 |               0.3  |    0.96875  | 0.898551 |   0.932331 |   0.956098 |\n",
      "|   5 |               0.2  |    0.957447 | 0.9      |   0.927835 |   0.948905 |\n",
      "|   5 |               0.25 |    0.963636 | 0.898305 |   0.929825 |   0.953216 |\n",
      "|   6 |               0.2  |    0.957447 | 0.9      |   0.927835 |   0.948905 |\n",
      "|   6 |               0.25 |    0.963636 | 0.898305 |   0.929825 |   0.953216 |\n",
      "|   6 |               0.3  |    0.96875  | 0.898551 |   0.932331 |   0.956098 |\n",
      "|   7 |               0.25 |    0.964286 | 0.915254 |   0.93913  |   0.959064 |\n",
      "|   7 |               0.3  |    0.969231 | 0.913043 |   0.940299 |   0.960976 |\n",
      "|   7 |               0.2  |    0.958333 | 0.92     |   0.938776 |   0.956204 |\n",
      "|   8 |               0.25 |    0.962963 | 0.881356 |   0.920354 |   0.947368 |\n",
      "|   8 |               0.3  |    0.968254 | 0.884058 |   0.924242 |   0.95122  |\n",
      "|   8 |               0.2  |    0.956522 | 0.88     |   0.916667 |   0.941606 |\n",
      "|   9 |               0.25 |    0.962963 | 0.881356 |   0.920354 |   0.947368 |\n",
      "|   9 |               0.3  |    0.968254 | 0.884058 |   0.924242 |   0.95122  |\n",
      "|   9 |               0.2  |    0.956522 | 0.88     |   0.916667 |   0.941606 |\n",
      "+-----+--------------------+-------------+----------+------------+------------+\n"
     ]
    }
   ],
   "source": [
    "from sklearn.metrics import accuracy_score, precision_score, recall_score, f1_score\n",
    "from tabulate import tabulate\n",
    "k_values = range(3, 10)\n",
    "splits = [0.3, 0.25, 0.2]\n",
    "\n",
    "results = pd.DataFrame(columns=['k', 'Train-Test Split', 'Precision', 'Recall', 'F1-score', 'Accuracy'])\n",
    "\n",
    "for split in splits:\n",
    "    X_train, X_test, y_train, y_test = train_test_split(X, Y, test_size=split, random_state=42)\n",
    "\n",
    "    for k in k_values:\n",
    "        knn = KNeighborsClassifier(n_neighbors=k)\n",
    "        knn.fit(X_train, y_train)\n",
    "        y_pred = knn.predict(X_test)\n",
    "\n",
    "        precision = precision_score(pd.Series(y_test).map(label), pd.Series(y_pred).map(label))\n",
    "        recall = recall_score(pd.Series(y_test).map(label), pd.Series(y_pred).map(label))\n",
    "        f1 = f1_score(pd.Series(y_test).map(label), pd.Series(y_pred).map(label))\n",
    "        accuracy = accuracy_score(pd.Series(y_test).map(label), pd.Series(y_pred).map(label))\n",
    "        iteration_results = pd.DataFrame({'k': [k], 'Train-Test Split': [split], 'Precision': [precision], 'Recall': [recall], 'F1-score': [f1], 'Accuracy': [accuracy]})\n",
    "        results = pd.concat([results, iteration_results], ignore_index=True)\n",
    "results = results.sort_values(by='k')\n",
    "print(tabulate(results, headers='keys', tablefmt='psql', showindex=False))"
   ]
  },
  {
   "cell_type": "code",
   "execution_count": null,
   "id": "3ea7741f",
   "metadata": {},
   "outputs": [],
   "source": []
  }
 ],
 "metadata": {
  "kernelspec": {
   "display_name": "Python 3 (ipykernel)",
   "language": "python",
   "name": "python3"
  },
  "language_info": {
   "codemirror_mode": {
    "name": "ipython",
    "version": 3
   },
   "file_extension": ".py",
   "mimetype": "text/x-python",
   "name": "python",
   "nbconvert_exporter": "python",
   "pygments_lexer": "ipython3",
   "version": "3.11.6"
  }
 },
 "nbformat": 4,
 "nbformat_minor": 5
}
